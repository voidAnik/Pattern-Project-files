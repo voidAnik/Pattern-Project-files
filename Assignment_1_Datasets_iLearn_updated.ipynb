{
  "nbformat": 4,
  "nbformat_minor": 0,
  "metadata": {
    "colab": {
      "name": "Assignment_1_Datasets_iLearn.ipynb",
      "provenance": [],
      "collapsed_sections": [],
      "include_colab_link": true
    },
    "kernelspec": {
      "name": "python3",
      "display_name": "Python 3"
    }
  },
  "cells": [
    {
      "cell_type": "markdown",
      "metadata": {
        "id": "view-in-github",
        "colab_type": "text"
      },
      "source": [
        "<a href=\"https://colab.research.google.com/github/voidAnik/Pattern_LAB/blob/master/Assignment_1_Datasets_iLearn_updated.ipynb\" target=\"_parent\"><img src=\"https://colab.research.google.com/assets/colab-badge.svg\" alt=\"Open In Colab\"/></a>"
      ]
    },
    {
      "cell_type": "code",
      "metadata": {
        "id": "QbVcbw2G2ZPG",
        "colab": {
          "base_uri": "https://localhost:8080/"
        },
        "outputId": "cac1bcb1-74df-4776-dc9a-b6e158f9a6e9"
      },
      "source": [
        "from google.colab import drive\n",
        "drive.mount('/content/drive', force_remount=True)"
      ],
      "execution_count": null,
      "outputs": [
        {
          "output_type": "stream",
          "text": [
            "Mounted at /content/drive\n"
          ],
          "name": "stdout"
        }
      ]
    },
    {
      "cell_type": "code",
      "metadata": {
        "id": "UtksM5Kd3Re8",
        "colab": {
          "base_uri": "https://localhost:8080/"
        },
        "outputId": "112e8cd5-485f-4174-cb8d-203876b5e180"
      },
      "source": [
        "%cd /content/drive/My\\ Drive/Pattern\\ Lab/Datasets/Datasets\\ SL"
      ],
      "execution_count": null,
      "outputs": [
        {
          "output_type": "stream",
          "text": [
            "/content/drive/My Drive/Pattern Lab/Datasets/Datasets SL\n"
          ],
          "name": "stdout"
        }
      ]
    },
    {
      "cell_type": "code",
      "metadata": {
        "id": "Ox01y_q64Y0v",
        "colab": {
          "base_uri": "https://localhost:8080/"
        },
        "outputId": "196c786f-a14e-4a55-bd34-639dcc8d4884"
      },
      "source": [
        "!pip install biopython"
      ],
      "execution_count": null,
      "outputs": [
        {
          "output_type": "stream",
          "text": [
            "Requirement already satisfied: biopython in /usr/local/lib/python3.6/dist-packages (1.78)\n",
            "Requirement already satisfied: numpy in /usr/local/lib/python3.6/dist-packages (from biopython) (1.18.5)\n"
          ],
          "name": "stdout"
        }
      ]
    },
    {
      "cell_type": "code",
      "metadata": {
        "id": "isMMiXG55ax5"
      },
      "source": [
        "from Bio import SeqIO"
      ],
      "execution_count": null,
      "outputs": []
    },
    {
      "cell_type": "code",
      "metadata": {
        "id": "vIR3BNDN50iI",
        "colab": {
          "base_uri": "https://localhost:8080/"
        },
        "outputId": "7bbf8f40-b648-4152-a97e-0a22cd154936"
      },
      "source": [
        "!ls"
      ],
      "execution_count": null,
      "outputs": [
        {
          "output_type": "stream",
          "text": [
            "binary\t\t      NCP\t\t    PA_train_special.txt\n",
            "CKSNAP\t\t      NC_test.fasta\t    PC_test.fasta\n",
            "classified_datasets   NC_test_special.txt   PC_test_special.txt\n",
            "DAC\t\t      NC_train.fasta\t    PC_train.fasta\n",
            "EIIP\t\t      NC_train_special.txt  PC_train_special.txt\n",
            "ENAC\t\t      ND_test.fasta\t    PD_test.fasta\n",
            "f.txt\t\t      ND_test_special.txt   PD_test_special.txt\n",
            "index_dictionary.pkl  ND_train.fasta\t    PD_train.fasta\n",
            "Kmer\t\t      ND_train_special.txt  PD_train_special.txt\n",
            "NA_test.fasta\t      n_p_test_train\t    PseEIIP\n",
            "NA_test_special.txt   PA_test.fasta\t    TAC\n",
            "NA_train.fasta\t      PA_test_special.txt\n",
            "NA_train_special.txt  PA_train.fasta\n"
          ],
          "name": "stdout"
        }
      ]
    },
    {
      "cell_type": "code",
      "metadata": {
        "id": "ZTMb00zU6cRi"
      },
      "source": [
        "file_names = [\"NA_test\", \"NC_train\", \"PA_test\", \"PC_train\",\n",
        "\"NA_train\", \"ND_test\", \"PA_train\", \"PD_test\",\n",
        "\"NC_test\", \"ND_train\", \"PC_test\", \"PD_train\"]"
      ],
      "execution_count": null,
      "outputs": []
    },
    {
      "cell_type": "code",
      "metadata": {
        "id": "YxmtpQn0-y3o"
      },
      "source": [
        "for f in file_names:\n",
        "  #print(f)\n",
        "  output_file = open(f+\"_special\"+\".txt\", \"w\")\n",
        "  if \"test\" in f:\n",
        "    mode = \"testing\"\n",
        "  if \"train\" in f:\n",
        "    mode = \"training\"\n",
        "  if \"N\" in f:\n",
        "    class_label = \"0\"\n",
        "  if \"P\" in f:\n",
        "    class_label = \"1\"\n",
        "  for seq_rec in SeqIO.parse(f+\".fasta\",\"fasta\"):\n",
        "    \n",
        "    id = seq_rec.id + \"|\" +class_label + \"|\" + mode\n",
        "    sequence = str(seq_rec.seq)\n",
        "    output_file.write(\">\" + id + \"\\n\" + sequence + \"\\n\")\n",
        "\n",
        "output_file.close()\n"
      ],
      "execution_count": null,
      "outputs": []
    },
    {
      "cell_type": "code",
      "metadata": {
        "id": "qsjI_hwRDOeZ",
        "colab": {
          "base_uri": "https://localhost:8080/"
        },
        "outputId": "9e6027a9-9ecc-4ed2-e0d8-7bfb30dca74b"
      },
      "source": [
        "%cd /content/drive/My\\ Drive/Pattern\\ Lab/iLearn-master/"
      ],
      "execution_count": null,
      "outputs": [
        {
          "output_type": "stream",
          "text": [
            "/content/drive/My Drive/Pattern Lab/iLearn-master\n"
          ],
          "name": "stdout"
        }
      ]
    },
    {
      "cell_type": "code",
      "metadata": {
        "id": "tcc4923gfC7r"
      },
      "source": [
        "sp_file_names = [\"NA_test_special\", \"NC_train_special\", \"PA_test_special\", \"PC_train_special\",\n",
        "\"NA_train_special\", \"ND_test_special\", \"PA_train_special\", \"PD_test_special\",\n",
        "\"NC_test_special\", \"ND_train_special\", \"PC_test_special\", \"PD_train_special\"]\n",
        "\n",
        "path = \"/content/drive/My\\ Drive/Pattern\\ Lab/Datasets/Datasets\\ SL\" # path of dataset"
      ],
      "execution_count": null,
      "outputs": []
    },
    {
      "cell_type": "code",
      "metadata": {
        "id": "h-99dUpsg0wY",
        "colab": {
          "base_uri": "https://localhost:8080/"
        },
        "outputId": "439c8c61-7b9e-46c1-b3fd-d29597456fa7"
      },
      "source": [
        "for f in sp_file_names:\n",
        "  name = f + \".txt\"\n",
        "\n",
        "  # for Kmer(1 to 5) features\n",
        "  for i in range(1,6):\n",
        "    alt_name = f + \"_Kmer\"+ str(i) + \".csv\"\n",
        "    !python descnucleotide/Kmer.py --file $path/$name --kmer $i --normalize --format csv --out $path/Kmer/$alt_name\n",
        "\n",
        "  # for binary\n",
        "  alt_name = f + \"_binary\" + \".csv\"\n",
        "  !python iLearn-nucleotide-basic.py --file $path/$name --method binary --format csv --out $path/binary/$alt_name"
      ],
      "execution_count": null,
      "outputs": [
        {
          "output_type": "stream",
          "text": [
            "Descriptor method: binary\n",
            "Descriptor method: binary\n",
            "Descriptor method: binary\n",
            "Descriptor method: binary\n",
            "Descriptor method: binary\n",
            "Descriptor method: binary\n",
            "Descriptor method: binary\n",
            "Descriptor method: binary\n",
            "Descriptor method: binary\n",
            "Descriptor method: binary\n",
            "Descriptor method: binary\n",
            "Descriptor method: binary\n"
          ],
          "name": "stdout"
        }
      ]
    },
    {
      "cell_type": "code",
      "metadata": {
        "id": "04UBc5MRayNo"
      },
      "source": [
        "for f in sp_file_names:\n",
        "  name = f + \".txt\"\n",
        "  # for ENAC 5 and 10\n",
        "  alt_name = f + \"_ENAC5\" + \".csv\"\n",
        "  !python descnucleotide/ENAC.py --file $path/$name --slwindow 5 --format csv --out $path/ENAC/$alt_name\n",
        "  alt_name = f + \"_ENAC10\" + \".csv\"\n",
        "  !python descnucleotide/ENAC.py --file $path/$name --slwindow 10 --format csv --out $path/ENAC/$alt_name"
      ],
      "execution_count": null,
      "outputs": []
    },
    {
      "cell_type": "code",
      "metadata": {
        "id": "R2lcpRk5uF7I"
      },
      "source": [
        "for f in sp_file_names:\n",
        "  name = f + \".txt\"\n",
        "\n",
        "  # for CKSNAP\n",
        "  for i in range(1,10,2):\n",
        "    alt_name = f + \"_CKSNAP\"+ str(i) + \".csv\"\n",
        "    !python descnucleotide/CKSNAP.py --file $path/$name --gap $i --format csv --out $path/CKSNAP/$alt_name"
      ],
      "execution_count": null,
      "outputs": []
    },
    {
      "cell_type": "code",
      "metadata": {
        "id": "kVBsxOpt2HFR",
        "colab": {
          "base_uri": "https://localhost:8080/"
        },
        "outputId": "e03df159-b1b1-4060-8888-1fd4ee419034"
      },
      "source": [
        "for f in sp_file_names:\n",
        "  name = f + \".txt\"\n",
        "\n",
        "  # for NCP\n",
        "  alt_name = f + \"_NCP\"+\".csv\"\n",
        "  !python iLearn-nucleotide-basic.py --file $path/$name --method NCP --format csv --out $path/NCP/$alt_name"
      ],
      "execution_count": null,
      "outputs": [
        {
          "output_type": "stream",
          "text": [
            "Descriptor method: NCP\n",
            "Descriptor method: NCP\n",
            "Descriptor method: NCP\n",
            "Descriptor method: NCP\n",
            "Descriptor method: NCP\n",
            "Descriptor method: NCP\n",
            "Descriptor method: NCP\n",
            "Descriptor method: NCP\n",
            "Descriptor method: NCP\n",
            "Descriptor method: NCP\n",
            "Descriptor method: NCP\n",
            "Descriptor method: NCP\n"
          ],
          "name": "stdout"
        }
      ]
    },
    {
      "cell_type": "code",
      "metadata": {
        "id": "UKi1ZOKs_dOJ",
        "colab": {
          "base_uri": "https://localhost:8080/"
        },
        "outputId": "66df204e-915b-46e2-9464-abb849a2798e"
      },
      "source": [
        "for f in sp_file_names:\n",
        "  name = f + \".txt\"\n",
        "\n",
        "  # for EIIP\n",
        "  alt_name = f + \"_EIIP\"+\".csv\"\n",
        "  !python iLearn-nucleotide-basic.py --file $path/$name --method EIIP --format csv --out $path/EIIP/$alt_name"
      ],
      "execution_count": null,
      "outputs": [
        {
          "output_type": "stream",
          "text": [
            "Descriptor method: EIIP\n",
            "Descriptor method: EIIP\n",
            "Descriptor method: EIIP\n",
            "Descriptor method: EIIP\n",
            "Descriptor method: EIIP\n",
            "Descriptor method: EIIP\n",
            "Descriptor method: EIIP\n",
            "Descriptor method: EIIP\n",
            "Descriptor method: EIIP\n",
            "Descriptor method: EIIP\n",
            "Descriptor method: EIIP\n",
            "Descriptor method: EIIP\n"
          ],
          "name": "stdout"
        }
      ]
    },
    {
      "cell_type": "code",
      "metadata": {
        "id": "6lj8y1rSAFA_",
        "colab": {
          "base_uri": "https://localhost:8080/"
        },
        "outputId": "ee33df2b-b374-4162-f334-6cccd7dae00a"
      },
      "source": [
        "for f in sp_file_names:\n",
        "  name = f + \".txt\"\n",
        "\n",
        "  # for PseEIIP\n",
        "  alt_name = f + \"_PseEIIP\"+\".csv\"\n",
        "  !python iLearn-nucleotide-basic.py --file $path/$name --method PseEIIP --format csv --out $path/PseEIIP/$alt_name"
      ],
      "execution_count": null,
      "outputs": [
        {
          "output_type": "stream",
          "text": [
            "Descriptor method: PseEIIP\n",
            "Descriptor method: PseEIIP\n",
            "Descriptor method: PseEIIP\n",
            "Descriptor method: PseEIIP\n",
            "Descriptor method: PseEIIP\n",
            "Descriptor method: PseEIIP\n",
            "Descriptor method: PseEIIP\n",
            "Descriptor method: PseEIIP\n",
            "Descriptor method: PseEIIP\n",
            "Descriptor method: PseEIIP\n",
            "Descriptor method: PseEIIP\n",
            "Descriptor method: PseEIIP\n"
          ],
          "name": "stdout"
        }
      ]
    },
    {
      "cell_type": "code",
      "metadata": {
        "id": "uRDiKj3oAmc2"
      },
      "source": [
        "for f in sp_file_names:\n",
        "  name = f + \".txt\"\n",
        "\n",
        "  # for DAC\n",
        "  alt_name = f + \"_DAC\"+\".csv\"\n",
        "  !python iLearn-nucleotide-acc.py --file $path/$name --method DAC --type DNA --lag 7 --format csv --out $path/DAC/$alt_name"
      ],
      "execution_count": null,
      "outputs": []
    },
    {
      "cell_type": "code",
      "metadata": {
        "id": "JJUN5cQbCgC1"
      },
      "source": [
        "for f in sp_file_names:\n",
        "  name = f + \".txt\"\n",
        "\n",
        "  # for TAC\n",
        "  alt_name = f + \"_TAC\"+\".csv\"\n",
        "  !python iLearn-nucleotide-acc.py --file $path/$name --method TAC --type DNA --lag 7 --format csv --out $path/TAC/$alt_name"
      ],
      "execution_count": null,
      "outputs": []
    },
    {
      "cell_type": "code",
      "metadata": {
        "id": "DOEUINI_DiOY"
      },
      "source": [
        ""
      ],
      "execution_count": null,
      "outputs": []
    }
  ]
}